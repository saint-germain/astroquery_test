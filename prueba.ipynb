{
 "cells": [
  {
   "cell_type": "markdown",
   "metadata": {},
   "source": [
    "Ejemplos\n",
    "\n",
    "- https://gea.esac.esa.int/archive-help/adql/index.html\n",
    "- https://gea.esac.esa.int/archive-help/adql/examples/index.html\n"
   ]
  },
  {
   "cell_type": "code",
   "execution_count": 17,
   "metadata": {},
   "outputs": [],
   "source": [
    "import numpy as np\n",
    "from astroquery.gaia import Gaia"
   ]
  },
  {
   "cell_type": "code",
   "execution_count": 6,
   "metadata": {},
   "outputs": [
    {
     "name": "stdout",
     "output_type": "stream",
     "text": [
      "Retrieving tables...\n",
      "Parsing tables...\n",
      "Done.\n",
      "external.external.apassdr9\n",
      "external.external.gaiadr2_geometric_distance\n",
      "external.external.ravedr5_com\n",
      "external.external.ravedr5_dr5\n",
      "external.external.ravedr5_gra\n",
      "external.external.ravedr5_on\n",
      "public.public.hipparcos\n",
      "public.public.hipparcos_newreduction\n",
      "public.public.hubble_sc\n",
      "public.public.igsl_source\n",
      "public.public.igsl_source_catalog_ids\n",
      "public.public.tycho2\n",
      "public.public.dual\n",
      "tap_config.tap_config.coord_sys\n",
      "tap_schema.tap_schema.columns\n",
      "tap_schema.tap_schema.key_columns\n",
      "tap_schema.tap_schema.keys\n",
      "tap_schema.tap_schema.schemas\n",
      "tap_schema.tap_schema.tables\n",
      "gaiadr1.gaiadr1.aux_qso_icrf2_match\n",
      "gaiadr1.gaiadr1.ext_phot_zero_point\n",
      "gaiadr1.gaiadr1.allwise_best_neighbour\n",
      "gaiadr1.gaiadr1.allwise_neighbourhood\n",
      "gaiadr1.gaiadr1.gsc23_best_neighbour\n",
      "gaiadr1.gaiadr1.gsc23_neighbourhood\n",
      "gaiadr1.gaiadr1.ppmxl_best_neighbour\n",
      "gaiadr1.gaiadr1.ppmxl_neighbourhood\n",
      "gaiadr1.gaiadr1.sdss_dr9_best_neighbour\n",
      "gaiadr1.gaiadr1.sdss_dr9_neighbourhood\n",
      "gaiadr1.gaiadr1.tmass_best_neighbour\n",
      "gaiadr1.gaiadr1.tmass_neighbourhood\n",
      "gaiadr1.gaiadr1.ucac4_best_neighbour\n",
      "gaiadr1.gaiadr1.ucac4_neighbourhood\n",
      "gaiadr1.gaiadr1.urat1_best_neighbour\n",
      "gaiadr1.gaiadr1.urat1_neighbourhood\n",
      "gaiadr1.gaiadr1.cepheid\n",
      "gaiadr1.gaiadr1.phot_variable_time_series_gfov\n",
      "gaiadr1.gaiadr1.phot_variable_time_series_gfov_statistical_parameters\n",
      "gaiadr1.gaiadr1.rrlyrae\n",
      "gaiadr1.gaiadr1.variable_summary\n",
      "gaiadr1.gaiadr1.allwise_original_valid\n",
      "gaiadr1.gaiadr1.gsc23_original_valid\n",
      "gaiadr1.gaiadr1.ppmxl_original_valid\n",
      "gaiadr1.gaiadr1.sdssdr9_original_valid\n",
      "gaiadr1.gaiadr1.tmass_original_valid\n",
      "gaiadr1.gaiadr1.ucac4_original_valid\n",
      "gaiadr1.gaiadr1.urat1_original_valid\n",
      "gaiadr1.gaiadr1.gaia_source\n",
      "gaiadr1.gaiadr1.tgas_source\n",
      "gaiadr2.gaiadr2.aux_allwise_agn_gdr2_cross_id\n",
      "gaiadr2.gaiadr2.aux_iers_gdr2_cross_id\n",
      "gaiadr2.gaiadr2.aux_sso_orbit_residuals\n",
      "gaiadr2.gaiadr2.aux_sso_orbits\n",
      "gaiadr2.gaiadr2.dr1_neighbourhood\n",
      "gaiadr2.gaiadr2.allwise_best_neighbour\n",
      "gaiadr2.gaiadr2.allwise_neighbourhood\n",
      "gaiadr2.gaiadr2.apassdr9_best_neighbour\n",
      "gaiadr2.gaiadr2.apassdr9_neighbourhood\n",
      "gaiadr2.gaiadr2.gsc23_best_neighbour\n",
      "gaiadr2.gaiadr2.gsc23_neighbourhood\n",
      "gaiadr2.gaiadr2.hipparcos2_best_neighbour\n",
      "gaiadr2.gaiadr2.hipparcos2_neighbourhood\n",
      "gaiadr2.gaiadr2.panstarrs1_best_neighbour\n",
      "gaiadr2.gaiadr2.panstarrs1_neighbourhood\n",
      "gaiadr2.gaiadr2.ppmxl_best_neighbour\n",
      "gaiadr2.gaiadr2.ppmxl_neighbourhood\n",
      "gaiadr2.gaiadr2.ravedr5_best_neighbour\n",
      "gaiadr2.gaiadr2.ravedr5_neighbourhood\n",
      "gaiadr2.gaiadr2.sdssdr9_best_neighbour\n",
      "gaiadr2.gaiadr2.sdssdr9_neighbourhood\n",
      "gaiadr2.gaiadr2.tmass_best_neighbour\n",
      "gaiadr2.gaiadr2.tmass_neighbourhood\n",
      "gaiadr2.gaiadr2.tycho2_best_neighbour\n",
      "gaiadr2.gaiadr2.tycho2_neighbourhood\n",
      "gaiadr2.gaiadr2.urat1_best_neighbour\n",
      "gaiadr2.gaiadr2.urat1_neighbourhood\n",
      "gaiadr2.gaiadr2.sso_observation\n",
      "gaiadr2.gaiadr2.sso_source\n",
      "gaiadr2.gaiadr2.vari_cepheid\n",
      "gaiadr2.gaiadr2.vari_classifier_class_definition\n",
      "gaiadr2.gaiadr2.vari_classifier_definition\n",
      "gaiadr2.gaiadr2.vari_classifier_result\n",
      "gaiadr2.gaiadr2.vari_long_period_variable\n",
      "gaiadr2.gaiadr2.vari_rotation_modulation\n",
      "gaiadr2.gaiadr2.vari_rrlyrae\n",
      "gaiadr2.gaiadr2.vari_short_timescale\n",
      "gaiadr2.gaiadr2.vari_time_series_statistics\n",
      "gaiadr2.gaiadr2.panstarrs1_original_valid\n",
      "gaiadr2.gaiadr2.gaia_source\n"
     ]
    }
   ],
   "source": [
    "tables = Gaia.load_tables(only_names=True)\n",
    "for table in (tables):\n",
    "    print (table.get_qualified_name())"
   ]
  },
  {
   "cell_type": "code",
   "execution_count": 11,
   "metadata": {},
   "outputs": [],
   "source": [
    "job2 = Gaia.launch_job_async(\n",
    "\"SELECT * \\\n",
    "FROM gaiadr2.gaia_source \\\n",
    "WHERE CONTAINS(POINT('ICRS',gaiadr2.gaia_source.ra,gaiadr2.gaia_source.dec),CIRCLE('ICRS',230.7875,-36.8586,0.16))=1 \\\n",
    "AND abs(parallax)>3.69 ;\", dump_to_file=True)"
   ]
  },
  {
   "cell_type": "code",
   "execution_count": 13,
   "metadata": {
    "scrolled": true
   },
   "outputs": [
    {
     "data": {
      "text/html": [
       "&lt;MaskedColumn name=&apos;source_id&apos; dtype=&apos;int64&apos; description=&apos;Unique source identifier (unique within a particular Data Release)&apos; length=43&gt;\n",
       "<table>\n",
       "<tr><td>6007484796888030464</td></tr>\n",
       "<tr><td>6007484491945972224</td></tr>\n",
       "<tr><td>6007482292924031104</td></tr>\n",
       "<tr><td>6007482499082484736</td></tr>\n",
       "<tr><td>6007482739599259776</td></tr>\n",
       "<tr><td>6007484560665441664</td></tr>\n",
       "<tr><td>6007670000174676736</td></tr>\n",
       "<tr><td>6007671340201611776</td></tr>\n",
       "<tr><td>6007664983652866304</td></tr>\n",
       "<tr><td>6007668831946871552</td></tr>\n",
       "<tr><td>6007673951543721984</td></tr>\n",
       "<tr><td>6007681545046860800</td></tr>\n",
       "<tr><td>...</td></tr>\n",
       "<tr><td>6007668316550750592</td></tr>\n",
       "<tr><td>6007673092548351616</td></tr>\n",
       "<tr><td>6007672779017815040</td></tr>\n",
       "<tr><td>6007664227741848960</td></tr>\n",
       "<tr><td>6007663884144464128</td></tr>\n",
       "<tr><td>6007672267920658944</td></tr>\n",
       "<tr><td>6007664227741846400</td></tr>\n",
       "<tr><td>6007671615085632768</td></tr>\n",
       "<tr><td>6007676459805696256</td></tr>\n",
       "<tr><td>6007670171973390336</td></tr>\n",
       "<tr><td>6007674153407400064</td></tr>\n",
       "<tr><td>6007669411764704000</td></tr>\n",
       "</table>"
      ],
      "text/plain": [
       "<MaskedColumn name='source_id' dtype='int64' description='Unique source identifier (unique within a particular Data Release)' length=43>\n",
       "6007484796888030464\n",
       "6007484491945972224\n",
       "6007482292924031104\n",
       "6007482499082484736\n",
       "6007482739599259776\n",
       "6007484560665441664\n",
       "6007670000174676736\n",
       "6007671340201611776\n",
       "6007664983652866304\n",
       "6007668831946871552\n",
       "6007673951543721984\n",
       "6007681545046860800\n",
       "                ...\n",
       "6007668316550750592\n",
       "6007673092548351616\n",
       "6007672779017815040\n",
       "6007664227741848960\n",
       "6007663884144464128\n",
       "6007672267920658944\n",
       "6007664227741846400\n",
       "6007671615085632768\n",
       "6007676459805696256\n",
       "6007670171973390336\n",
       "6007674153407400064\n",
       "6007669411764704000"
      ]
     },
     "execution_count": 13,
     "metadata": {},
     "output_type": "execute_result"
    }
   ],
   "source": [
    "j = job2.get_results()\n",
    "j['source_id']"
   ]
  },
  {
   "cell_type": "code",
   "execution_count": 18,
   "metadata": {},
   "outputs": [
    {
     "data": {
      "text/plain": [
       "array([24])"
      ]
     },
     "execution_count": 18,
     "metadata": {},
     "output_type": "execute_result"
    }
   ],
   "source": [
    "np.arange(43)[j['source_id']==6007671305847996928]"
   ]
  },
  {
   "cell_type": "code",
   "execution_count": 19,
   "metadata": {},
   "outputs": [],
   "source": [
    "job2 = Gaia.launch_job(\"SELECT * \\\n",
    "FROM gaiadr2.gaia_source \\\n",
    "WHERE CONTAINS(POINT('ICRS',gaiadr2.gaia_source.ra,gaiadr2.gaia_source.dec),CIRCLE('ICRS',230.7875,-36.8586,0.0166))=1 \\\n",
    "AND abs(parallax)>3.69 ;\", dump_to_file=True)"
   ]
  },
  {
   "cell_type": "code",
   "execution_count": 20,
   "metadata": {},
   "outputs": [
    {
     "name": "stdout",
     "output_type": "stream",
     "text": [
      "     source_id     \n",
      "-------------------\n",
      "6007671305847996928\n"
     ]
    },
    {
     "name": "stderr",
     "output_type": "stream",
     "text": [
      "WARNING: W35: sync_20190423224025.xml.gz:5:0: W35: 'value' attribute required for INFO elements [astropy.io.votable.tree]\n",
      "WARNING: W35: sync_20190423224025.xml.gz:6:0: W35: 'value' attribute required for INFO elements [astropy.io.votable.tree]\n",
      "WARNING: W35: sync_20190423224025.xml.gz:7:0: W35: 'value' attribute required for INFO elements [astropy.io.votable.tree]\n",
      "WARNING: W35: sync_20190423224025.xml.gz:8:0: W35: 'value' attribute required for INFO elements [astropy.io.votable.tree]\n",
      "WARNING: W35: sync_20190423224025.xml.gz:10:0: W35: 'value' attribute required for INFO elements [astropy.io.votable.tree]\n",
      "WARNING: W27: sync_20190423224025.xml.gz:11:0: W27: COOSYS deprecated in VOTable 1.2 [astropy.io.votable.tree]\n",
      "WARNING: W06: sync_20190423224025.xml.gz:47:0: W06: Invalid UCD 'arith.ratio': Secondary word 'arith.ratio' is not valid as a primary word [astropy.io.votable.tree]\n",
      "WARNING: W50: sync_20190423224025.xml.gz:50:0: W50: Invalid unit string 'mas.yr**-1' [astropy.io.votable.tree]\n",
      "WARNING: W50: sync_20190423224025.xml.gz:53:0: W50: Invalid unit string 'mas.yr**-1' [astropy.io.votable.tree]\n",
      "WARNING: W50: sync_20190423224025.xml.gz:56:0: W50: Invalid unit string 'mas.yr**-1' [astropy.io.votable.tree]\n",
      "WARNING: W50: sync_20190423224025.xml.gz:59:0: W50: Invalid unit string 'mas.yr**-1' [astropy.io.votable.tree]\n",
      "WARNING: W50: sync_20190423224025.xml.gz:122:0: W50: Invalid unit string 'mas**-2' [astropy.io.votable.tree]\n",
      "WARNING: W50: sync_20190423224025.xml.gz:125:0: W50: Invalid unit string 'um**-1' [astropy.io.votable.tree]\n",
      "WARNING: W06: sync_20190423224025.xml.gz:128:0: W06: Invalid UCD 'em.wavenumber;stat.error': Primary word 'stat.error' is not valid as a secondary word [astropy.io.votable.tree]\n",
      "WARNING: W50: sync_20190423224025.xml.gz:128:0: W50: Invalid unit string 'um**-1' [astropy.io.votable.tree]\n",
      "WARNING: W06: sync_20190423224025.xml.gz:140:0: W06: Invalid UCD 'pos.errorEllipse;stat.max': Secondary word 'pos.errorEllipse' is not valid as a primary word [astropy.io.votable.tree]\n",
      "WARNING: W50: sync_20190423224025.xml.gz:155:0: W50: Invalid unit string ''electron'.s**-1' [astropy.io.votable.tree]\n",
      "WARNING: W50: sync_20190423224025.xml.gz:158:0: W50: Invalid unit string ''electron'.s**-1' [astropy.io.votable.tree]\n",
      "WARNING: W06: sync_20190423224025.xml.gz:161:0: W06: Invalid UCD 'arith.ratio': Secondary word 'arith.ratio' is not valid as a primary word [astropy.io.votable.tree]\n",
      "WARNING: W50: sync_20190423224025.xml.gz:170:0: W50: Invalid unit string ''electron'.s**-1' (suppressing further warnings of this type...) [astropy.io.votable.tree]\n",
      "WARNING: W06: sync_20190423224025.xml.gz:176:0: W06: Invalid UCD 'arith.ratio': Secondary word 'arith.ratio' is not valid as a primary word [astropy.io.votable.tree]\n",
      "WARNING: W06: sync_20190423224025.xml.gz:191:0: W06: Invalid UCD 'arith.ratio': Secondary word 'arith.ratio' is not valid as a primary word [astropy.io.votable.tree]\n",
      "WARNING: W06: sync_20190423224025.xml.gz:203:0: W06: Invalid UCD 'phot.color': Unknown word 'phot.color' [astropy.io.votable.tree]\n",
      "WARNING: W06: sync_20190423224025.xml.gz:206:0: W06: Invalid UCD 'phot.color': Unknown word 'phot.color' [astropy.io.votable.tree]\n",
      "WARNING: W06: sync_20190423224025.xml.gz:209:0: W06: Invalid UCD 'phot.color': Unknown word 'phot.color' [astropy.io.votable.tree]\n",
      "WARNING: W06: sync_20190423224025.xml.gz:281:0: W06: Invalid UCD 'phys.size.radius;stat.error': Primary word 'stat.error' is not valid as a secondary word (suppressing further warnings of this type...) [astropy.io.votable.tree]\n"
     ]
    }
   ],
   "source": [
    "j = job2.get_results()\n",
    "print (j['source_id']) "
   ]
  },
  {
   "cell_type": "code",
   "execution_count": 21,
   "metadata": {},
   "outputs": [
    {
     "data": {
      "text/html": [
       "<i>Table masked=True length=1</i>\n",
       "<table id=\"table139933099020184\" class=\"table-striped table-bordered table-condensed\">\n",
       "<thead><tr><th>solution_id</th><th>designation</th><th>source_id</th><th>random_index</th><th>ref_epoch</th><th>ra</th><th>ra_error</th><th>dec</th><th>dec_error</th><th>parallax</th><th>parallax_error</th><th>parallax_over_error</th><th>pmra</th><th>pmra_error</th><th>pmdec</th><th>pmdec_error</th><th>ra_dec_corr</th><th>ra_parallax_corr</th><th>ra_pmra_corr</th><th>ra_pmdec_corr</th><th>dec_parallax_corr</th><th>dec_pmra_corr</th><th>dec_pmdec_corr</th><th>parallax_pmra_corr</th><th>parallax_pmdec_corr</th><th>pmra_pmdec_corr</th><th>astrometric_n_obs_al</th><th>astrometric_n_obs_ac</th><th>astrometric_n_good_obs_al</th><th>astrometric_n_bad_obs_al</th><th>astrometric_gof_al</th><th>astrometric_chi2_al</th><th>astrometric_excess_noise</th><th>astrometric_excess_noise_sig</th><th>astrometric_params_solved</th><th>astrometric_primary_flag</th><th>astrometric_weight_al</th><th>astrometric_pseudo_colour</th><th>astrometric_pseudo_colour_error</th><th>mean_varpi_factor_al</th><th>astrometric_matched_observations</th><th>visibility_periods_used</th><th>astrometric_sigma5d_max</th><th>frame_rotator_object_type</th><th>matched_observations</th><th>duplicated_source</th><th>phot_g_n_obs</th><th>phot_g_mean_flux</th><th>phot_g_mean_flux_error</th><th>phot_g_mean_flux_over_error</th><th>phot_g_mean_mag</th><th>phot_bp_n_obs</th><th>phot_bp_mean_flux</th><th>phot_bp_mean_flux_error</th><th>phot_bp_mean_flux_over_error</th><th>phot_bp_mean_mag</th><th>phot_rp_n_obs</th><th>phot_rp_mean_flux</th><th>phot_rp_mean_flux_error</th><th>phot_rp_mean_flux_over_error</th><th>phot_rp_mean_mag</th><th>phot_bp_rp_excess_factor</th><th>phot_proc_mode</th><th>bp_rp</th><th>bp_g</th><th>g_rp</th><th>radial_velocity</th><th>radial_velocity_error</th><th>rv_nb_transits</th><th>rv_template_teff</th><th>rv_template_logg</th><th>rv_template_fe_h</th><th>phot_variable_flag</th><th>l</th><th>b</th><th>ecl_lon</th><th>ecl_lat</th><th>priam_flags</th><th>teff_val</th><th>teff_percentile_lower</th><th>teff_percentile_upper</th><th>a_g_val</th><th>a_g_percentile_lower</th><th>a_g_percentile_upper</th><th>e_bp_min_rp_val</th><th>e_bp_min_rp_percentile_lower</th><th>e_bp_min_rp_percentile_upper</th><th>flame_flags</th><th>radius_val</th><th>radius_percentile_lower</th><th>radius_percentile_upper</th><th>lum_val</th><th>lum_percentile_lower</th><th>lum_percentile_upper</th><th>datalink_url</th><th>epoch_photometry_url</th></tr></thead>\n",
       "<thead><tr><th></th><th></th><th></th><th></th><th>yr</th><th>deg</th><th>mas</th><th>deg</th><th>mas</th><th>mas</th><th>mas</th><th></th><th>mas / yr</th><th>mas / yr</th><th>mas / yr</th><th>mas / yr</th><th></th><th></th><th></th><th></th><th></th><th></th><th></th><th></th><th></th><th></th><th></th><th></th><th></th><th></th><th></th><th></th><th>mas</th><th></th><th></th><th></th><th>1 / mas2</th><th>1 / um</th><th>1 / um</th><th></th><th></th><th></th><th>mas</th><th></th><th></th><th></th><th></th><th>electron / s</th><th>electron / s</th><th></th><th>mag</th><th></th><th>electron / s</th><th>electron / s</th><th></th><th>mag</th><th></th><th>electron / s</th><th>electron / s</th><th></th><th>mag</th><th></th><th></th><th>mag</th><th>mag</th><th>mag</th><th>km / s</th><th>km / s</th><th></th><th>K</th><th>log(cm.s**-2)</th><th>dex</th><th></th><th>deg</th><th>deg</th><th>deg</th><th>deg</th><th></th><th>K</th><th>K</th><th>K</th><th>mag</th><th>mag</th><th>mag</th><th>mag</th><th>mag</th><th>mag</th><th></th><th>Rsun</th><th>Rsun</th><th>Rsun</th><th>Lsun</th><th>Lsun</th><th>Lsun</th><th></th><th></th></tr></thead>\n",
       "<thead><tr><th>int64</th><th>object</th><th>int64</th><th>int64</th><th>float64</th><th>float64</th><th>float64</th><th>float64</th><th>float64</th><th>float64</th><th>float64</th><th>float32</th><th>float64</th><th>float64</th><th>float64</th><th>float64</th><th>float32</th><th>float32</th><th>float32</th><th>float32</th><th>float32</th><th>float32</th><th>float32</th><th>float32</th><th>float32</th><th>float32</th><th>int32</th><th>int32</th><th>int32</th><th>int32</th><th>float32</th><th>float32</th><th>float64</th><th>float64</th><th>int16</th><th>bool</th><th>float32</th><th>float64</th><th>float64</th><th>float32</th><th>int16</th><th>int16</th><th>float32</th><th>int32</th><th>int16</th><th>bool</th><th>int32</th><th>float64</th><th>float64</th><th>float32</th><th>float32</th><th>int32</th><th>float64</th><th>float64</th><th>float32</th><th>float32</th><th>int32</th><th>float64</th><th>float64</th><th>float32</th><th>float32</th><th>float32</th><th>int16</th><th>float32</th><th>float32</th><th>float32</th><th>float64</th><th>float64</th><th>int32</th><th>float32</th><th>float32</th><th>float32</th><th>object</th><th>float64</th><th>float64</th><th>float64</th><th>float64</th><th>int64</th><th>float32</th><th>float32</th><th>float32</th><th>float32</th><th>float32</th><th>float32</th><th>float32</th><th>float32</th><th>float32</th><th>int64</th><th>float32</th><th>float32</th><th>float32</th><th>float32</th><th>float32</th><th>float32</th><th>object</th><th>object</th></tr></thead>\n",
       "<tr><td>1635721458409799680</td><td>Gaia DR2 6007671305847996928</td><td>6007671305847996928</td><td>1282062568</td><td>2015.5</td><td>230.77872733227483</td><td>0.6584201330674005</td><td>-36.86655403498152</td><td>0.4331757851461156</td><td>-3.788026633203545</td><td>0.6569137802342145</td><td>-5.7663984</td><td>-7.322923906044096</td><td>1.0512468509581763</td><td>-9.0604521961786</td><td>0.77420765683317</td><td>0.52107435</td><td>-0.4541035</td><td>-0.17114457</td><td>-0.19382127</td><td>-0.50825435</td><td>-0.08012734</td><td>0.15278187</td><td>-0.18997973</td><td>0.13049364</td><td>0.19557875</td><td>138</td><td>0</td><td>136</td><td>2</td><td>14.895068</td><td>548.5191</td><td>2.6868515754905493</td><td>23.907788950310277</td><td>31</td><td>False</td><td>0.10065998</td><td>1.915378566517774</td><td>0.1366870231810804</td><td>0.1899817</td><td>16</td><td>8</td><td>0.95946693</td><td>0</td><td>19</td><td>False</td><td>155</td><td>678.6960576544259</td><td>7.284848702876051</td><td>93.16543</td><td>18.609177</td><td>17</td><td>656.229261083254</td><td>24.192923094882474</td><td>27.124844</td><td>18.308748</td><td>16</td><td>587.5170217120586</td><td>9.674454764983256</td><td>60.728695</td><td>17.839369</td><td>1.8325527</td><td>0</td><td>0.46937943</td><td>-0.3004284</td><td>0.7698078</td><td>--</td><td>--</td><td>0</td><td>--</td><td>--</td><td>--</td><td>NOT_AVAILABLE</td><td>333.8248718584265</td><td>16.745974957580653</td><td>237.9276058115425</td><td>-17.69237176170165</td><td>--</td><td>--</td><td>--</td><td>--</td><td>--</td><td>--</td><td>--</td><td>--</td><td>--</td><td>--</td><td>--</td><td>--</td><td>--</td><td>--</td><td>--</td><td>--</td><td>--</td><td>http://geadata.esac.esa.int/data-server/datalink/links?ID=6007671305847996928</td><td>--</td></tr>\n",
       "</table>"
      ],
      "text/plain": [
       "<Table masked=True length=1>\n",
       "    solution_id             designation          ... epoch_photometry_url\n",
       "                                                 ...                     \n",
       "       int64                   object            ...        object       \n",
       "------------------- ---------------------------- ... --------------------\n",
       "1635721458409799680 Gaia DR2 6007671305847996928 ...                   --"
      ]
     },
     "execution_count": 21,
     "metadata": {},
     "output_type": "execute_result"
    }
   ],
   "source": [
    "j"
   ]
  },
  {
   "cell_type": "code",
   "execution_count": null,
   "metadata": {},
   "outputs": [],
   "source": []
  }
 ],
 "metadata": {
  "kernelspec": {
   "display_name": "Python 3",
   "language": "python",
   "name": "python3"
  },
  "language_info": {
   "codemirror_mode": {
    "name": "ipython",
    "version": 3
   },
   "file_extension": ".py",
   "mimetype": "text/x-python",
   "name": "python",
   "nbconvert_exporter": "python",
   "pygments_lexer": "ipython3",
   "version": "3.7.2"
  }
 },
 "nbformat": 4,
 "nbformat_minor": 2
}
